{
    "metadata": {
        "kernelspec": {
            "name": "SQL",
            "display_name": "SQL",
            "language": "sql"
        },
        "language_info": {
            "name": "sql",
            "version": ""
        }
    },
    "nbformat_minor": 2,
    "nbformat": 4,
    "cells": [
        {
            "cell_type": "code",
            "source": [
                "SELECT * FROM [Account];"
            ],
            "metadata": {
                "azdata_cell_guid": "7efeab27-451d-417f-bafb-9e4f457f95d8"
            },
            "outputs": [
                {
                    "output_type": "display_data",
                    "data": {
                        "text/html": "(2 rows affected)"
                    },
                    "metadata": {}
                },
                {
                    "output_type": "display_data",
                    "data": {
                        "text/html": "Total execution time: 00:00:00.080"
                    },
                    "metadata": {}
                },
                {
                    "output_type": "execute_result",
                    "metadata": {},
                    "execution_count": 22,
                    "data": {
                        "application/vnd.dataresource+json": {
                            "schema": {
                                "fields": [
                                    {
                                        "name": "accountId"
                                    },
                                    {
                                        "name": "userName"
                                    },
                                    {
                                        "name": "hashedPassword"
                                    },
                                    {
                                        "name": "dob"
                                    },
                                    {
                                        "name": "email"
                                    },
                                    {
                                        "name": "isDeleted"
                                    },
                                    {
                                        "name": "deletedReason"
                                    }
                                ]
                            },
                            "data": [
                                {
                                    "0": "1",
                                    "1": "johndoe",
                                    "2": "admin",
                                    "3": "2022-01-27 08:37:56.663",
                                    "4": "johnd@mail.com",
                                    "5": "0",
                                    "6": "NULL"
                                },
                                {
                                    "0": "2",
                                    "1": "janedoe",
                                    "2": "user",
                                    "3": "2022-01-27 08:37:56.663",
                                    "4": "janed@mail.com",
                                    "5": "0",
                                    "6": "NULL"
                                }
                            ]
                        },
                        "text/html": [
                            "<table>",
                            "<tr><th>accountId</th><th>userName</th><th>hashedPassword</th><th>dob</th><th>email</th><th>isDeleted</th><th>deletedReason</th></tr>",
                            "<tr><td>1</td><td>johndoe</td><td>admin</td><td>2022-01-27 08:37:56.663</td><td>johnd@mail.com</td><td>0</td><td>NULL</td></tr>",
                            "<tr><td>2</td><td>janedoe</td><td>user</td><td>2022-01-27 08:37:56.663</td><td>janed@mail.com</td><td>0</td><td>NULL</td></tr>",
                            "</table>"
                        ]
                    }
                }
            ],
            "execution_count": 22
        },
        {
            "cell_type": "code",
            "source": [
                "SELECT * FROM [Role];"
            ],
            "metadata": {
                "azdata_cell_guid": "31b7ea02-d862-494a-b8ca-859bb1b0a110"
            },
            "outputs": [
                {
                    "output_type": "display_data",
                    "data": {
                        "text/html": "(2 rows affected)"
                    },
                    "metadata": {}
                },
                {
                    "output_type": "display_data",
                    "data": {
                        "text/html": "Total execution time: 00:00:00.081"
                    },
                    "metadata": {}
                },
                {
                    "output_type": "execute_result",
                    "metadata": {},
                    "execution_count": 19,
                    "data": {
                        "application/vnd.dataresource+json": {
                            "schema": {
                                "fields": [
                                    {
                                        "name": "roleId"
                                    },
                                    {
                                        "name": "roleName"
                                    }
                                ]
                            },
                            "data": [
                                {
                                    "0": "1",
                                    "1": "Admin"
                                },
                                {
                                    "0": "2",
                                    "1": "User"
                                }
                            ]
                        },
                        "text/html": [
                            "<table>",
                            "<tr><th>roleId</th><th>roleName</th></tr>",
                            "<tr><td>1</td><td>Admin</td></tr>",
                            "<tr><td>2</td><td>User</td></tr>",
                            "</table>"
                        ]
                    }
                }
            ],
            "execution_count": 19
        },
        {
            "cell_type": "code",
            "source": [
                "SELECT * FROM [AccountRole];"
            ],
            "metadata": {
                "azdata_cell_guid": "50b78027-18bd-464c-9c67-97e1ff078881"
            },
            "outputs": [
                {
                    "output_type": "display_data",
                    "data": {
                        "text/html": "(2 rows affected)"
                    },
                    "metadata": {}
                },
                {
                    "output_type": "display_data",
                    "data": {
                        "text/html": "Total execution time: 00:00:00.080"
                    },
                    "metadata": {}
                },
                {
                    "output_type": "execute_result",
                    "metadata": {},
                    "execution_count": 20,
                    "data": {
                        "application/vnd.dataresource+json": {
                            "schema": {
                                "fields": [
                                    {
                                        "name": "arId"
                                    },
                                    {
                                        "name": "accountId"
                                    },
                                    {
                                        "name": "roleId"
                                    }
                                ]
                            },
                            "data": [
                                {
                                    "0": "1",
                                    "1": "1",
                                    "2": "1"
                                },
                                {
                                    "0": "2",
                                    "1": "2",
                                    "2": "2"
                                }
                            ]
                        },
                        "text/html": [
                            "<table>",
                            "<tr><th>arId</th><th>accountId</th><th>roleId</th></tr>",
                            "<tr><td>1</td><td>1</td><td>1</td></tr>",
                            "<tr><td>2</td><td>2</td><td>2</td></tr>",
                            "</table>"
                        ]
                    }
                }
            ],
            "execution_count": 20
        },
        {
            "cell_type": "code",
            "source": [
                "SELECT * FROM [Song];"
            ],
            "metadata": {
                "azdata_cell_guid": "83b00939-c873-4aec-bd0d-9be1b1dfba35"
            },
            "outputs": [
                {
                    "output_type": "display_data",
                    "data": {
                        "text/html": "(9 rows affected)"
                    },
                    "metadata": {}
                },
                {
                    "output_type": "display_data",
                    "data": {
                        "text/html": "Total execution time: 00:00:00.084"
                    },
                    "metadata": {}
                },
                {
                    "output_type": "execute_result",
                    "metadata": {},
                    "execution_count": 12,
                    "data": {
                        "application/vnd.dataresource+json": {
                            "schema": {
                                "fields": [
                                    {
                                        "name": "songId"
                                    },
                                    {
                                        "name": "songName"
                                    },
                                    {
                                        "name": "author"
                                    },
                                    {
                                        "name": "bpm"
                                    },
                                    {
                                        "name": "notes"
                                    },
                                    {
                                        "name": "releaseDate"
                                    },
                                    {
                                        "name": "isPublic"
                                    },
                                    {
                                        "name": "isDeleted"
                                    },
                                    {
                                        "name": "deletedReason"
                                    }
                                ]
                            },
                            "data": [
                                {
                                    "0": "1",
                                    "1": "song1",
                                    "2": "author1",
                                    "3": "100",
                                    "4": "notes1",
                                    "5": "2020-01-01 00:00:00.000",
                                    "6": "0",
                                    "7": "0",
                                    "8": "NULL"
                                },
                                {
                                    "0": "2",
                                    "1": "song2",
                                    "2": "author2",
                                    "3": "200",
                                    "4": "notes2",
                                    "5": "2020-01-02 00:00:00.000",
                                    "6": "1",
                                    "7": "0",
                                    "8": "NULL"
                                },
                                {
                                    "0": "3",
                                    "1": "song3",
                                    "2": "author3",
                                    "3": "300",
                                    "4": "notes3",
                                    "5": "2020-01-03 00:00:00.000",
                                    "6": "0",
                                    "7": "1",
                                    "8": "reason3"
                                },
                                {
                                    "0": "4",
                                    "1": "song4",
                                    "2": "author4",
                                    "3": "400",
                                    "4": "notes4",
                                    "5": "2020-01-04 00:00:00.000",
                                    "6": "1",
                                    "7": "1",
                                    "8": "reason4"
                                },
                                {
                                    "0": "5",
                                    "1": "song5",
                                    "2": "author5",
                                    "3": "500",
                                    "4": "notes5",
                                    "5": "2020-01-05 00:00:00.000",
                                    "6": "0",
                                    "7": "0",
                                    "8": "NULL"
                                },
                                {
                                    "0": "6",
                                    "1": "song6",
                                    "2": "author6",
                                    "3": "600",
                                    "4": "notes6",
                                    "5": "2020-01-06 00:00:00.000",
                                    "6": "1",
                                    "7": "0",
                                    "8": "NULL"
                                },
                                {
                                    "0": "7",
                                    "1": "song7",
                                    "2": "author7",
                                    "3": "700",
                                    "4": "notes7",
                                    "5": "2020-01-07 00:00:00.000",
                                    "6": "0",
                                    "7": "1",
                                    "8": "reason7"
                                },
                                {
                                    "0": "8",
                                    "1": "song8",
                                    "2": "author8",
                                    "3": "800",
                                    "4": "notes8",
                                    "5": "2020-01-08 00:00:00.000",
                                    "6": "1",
                                    "7": "1",
                                    "8": "reason8"
                                },
                                {
                                    "0": "9",
                                    "1": "song9",
                                    "2": "author9",
                                    "3": "900",
                                    "4": "notes9",
                                    "5": "2020-01-09 00:00:00.000",
                                    "6": "0",
                                    "7": "0",
                                    "8": "NULL"
                                }
                            ]
                        },
                        "text/html": [
                            "<table>",
                            "<tr><th>songId</th><th>songName</th><th>author</th><th>bpm</th><th>notes</th><th>releaseDate</th><th>isPublic</th><th>isDeleted</th><th>deletedReason</th></tr>",
                            "<tr><td>1</td><td>song1</td><td>author1</td><td>100</td><td>notes1</td><td>2020-01-01 00:00:00.000</td><td>0</td><td>0</td><td>NULL</td></tr>",
                            "<tr><td>2</td><td>song2</td><td>author2</td><td>200</td><td>notes2</td><td>2020-01-02 00:00:00.000</td><td>1</td><td>0</td><td>NULL</td></tr>",
                            "<tr><td>3</td><td>song3</td><td>author3</td><td>300</td><td>notes3</td><td>2020-01-03 00:00:00.000</td><td>0</td><td>1</td><td>reason3</td></tr>",
                            "<tr><td>4</td><td>song4</td><td>author4</td><td>400</td><td>notes4</td><td>2020-01-04 00:00:00.000</td><td>1</td><td>1</td><td>reason4</td></tr>",
                            "<tr><td>5</td><td>song5</td><td>author5</td><td>500</td><td>notes5</td><td>2020-01-05 00:00:00.000</td><td>0</td><td>0</td><td>NULL</td></tr>",
                            "<tr><td>6</td><td>song6</td><td>author6</td><td>600</td><td>notes6</td><td>2020-01-06 00:00:00.000</td><td>1</td><td>0</td><td>NULL</td></tr>",
                            "<tr><td>7</td><td>song7</td><td>author7</td><td>700</td><td>notes7</td><td>2020-01-07 00:00:00.000</td><td>0</td><td>1</td><td>reason7</td></tr>",
                            "<tr><td>8</td><td>song8</td><td>author8</td><td>800</td><td>notes8</td><td>2020-01-08 00:00:00.000</td><td>1</td><td>1</td><td>reason8</td></tr>",
                            "<tr><td>9</td><td>song9</td><td>author9</td><td>900</td><td>notes9</td><td>2020-01-09 00:00:00.000</td><td>0</td><td>0</td><td>NULL</td></tr>",
                            "</table>"
                        ]
                    }
                }
            ],
            "execution_count": 12
        },
        {
            "cell_type": "code",
            "source": [
                "SELECT * FROM [Tag];"
            ],
            "metadata": {
                "azdata_cell_guid": "ad77872e-b87c-4aa3-babe-795f03e58245"
            },
            "outputs": [
                {
                    "output_type": "display_data",
                    "data": {
                        "text/html": "(9 rows affected)"
                    },
                    "metadata": {}
                },
                {
                    "output_type": "display_data",
                    "data": {
                        "text/html": "Total execution time: 00:00:00.083"
                    },
                    "metadata": {}
                },
                {
                    "output_type": "execute_result",
                    "metadata": {},
                    "execution_count": 13,
                    "data": {
                        "application/vnd.dataresource+json": {
                            "schema": {
                                "fields": [
                                    {
                                        "name": "tagId"
                                    },
                                    {
                                        "name": "tagName"
                                    }
                                ]
                            },
                            "data": [
                                {
                                    "0": "1",
                                    "1": "Tag1"
                                },
                                {
                                    "0": "2",
                                    "1": "Tag2"
                                },
                                {
                                    "0": "3",
                                    "1": "Tag3"
                                },
                                {
                                    "0": "4",
                                    "1": "Tag4"
                                },
                                {
                                    "0": "5",
                                    "1": "Tag5"
                                },
                                {
                                    "0": "6",
                                    "1": "Tag6"
                                },
                                {
                                    "0": "7",
                                    "1": "Tag7"
                                },
                                {
                                    "0": "8",
                                    "1": "Tag8"
                                },
                                {
                                    "0": "9",
                                    "1": "Tag9"
                                }
                            ]
                        },
                        "text/html": [
                            "<table>",
                            "<tr><th>tagId</th><th>tagName</th></tr>",
                            "<tr><td>1</td><td>Tag1</td></tr>",
                            "<tr><td>2</td><td>Tag2</td></tr>",
                            "<tr><td>3</td><td>Tag3</td></tr>",
                            "<tr><td>4</td><td>Tag4</td></tr>",
                            "<tr><td>5</td><td>Tag5</td></tr>",
                            "<tr><td>6</td><td>Tag6</td></tr>",
                            "<tr><td>7</td><td>Tag7</td></tr>",
                            "<tr><td>8</td><td>Tag8</td></tr>",
                            "<tr><td>9</td><td>Tag9</td></tr>",
                            "</table>"
                        ]
                    }
                }
            ],
            "execution_count": 13
        },
        {
            "cell_type": "code",
            "source": [
                "SELECT * FROM [SongTag];"
            ],
            "metadata": {
                "azdata_cell_guid": "c4b3c468-1617-4547-9ac4-7584fc1accc5"
            },
            "outputs": [
                {
                    "output_type": "display_data",
                    "data": {
                        "text/html": "(9 rows affected)"
                    },
                    "metadata": {}
                },
                {
                    "output_type": "display_data",
                    "data": {
                        "text/html": "Total execution time: 00:00:00.097"
                    },
                    "metadata": {}
                },
                {
                    "output_type": "execute_result",
                    "metadata": {},
                    "execution_count": 14,
                    "data": {
                        "application/vnd.dataresource+json": {
                            "schema": {
                                "fields": [
                                    {
                                        "name": "stId"
                                    },
                                    {
                                        "name": "songId"
                                    },
                                    {
                                        "name": "tagId"
                                    }
                                ]
                            },
                            "data": [
                                {
                                    "0": "1",
                                    "1": "1",
                                    "2": "1"
                                },
                                {
                                    "0": "2",
                                    "1": "1",
                                    "2": "2"
                                },
                                {
                                    "0": "3",
                                    "1": "2",
                                    "2": "3"
                                },
                                {
                                    "0": "4",
                                    "1": "2",
                                    "2": "4"
                                },
                                {
                                    "0": "5",
                                    "1": "4",
                                    "2": "5"
                                },
                                {
                                    "0": "6",
                                    "1": "5",
                                    "2": "6"
                                },
                                {
                                    "0": "7",
                                    "1": "7",
                                    "2": "7"
                                },
                                {
                                    "0": "8",
                                    "1": "9",
                                    "2": "8"
                                },
                                {
                                    "0": "9",
                                    "1": "9",
                                    "2": "9"
                                }
                            ]
                        },
                        "text/html": [
                            "<table>",
                            "<tr><th>stId</th><th>songId</th><th>tagId</th></tr>",
                            "<tr><td>1</td><td>1</td><td>1</td></tr>",
                            "<tr><td>2</td><td>1</td><td>2</td></tr>",
                            "<tr><td>3</td><td>2</td><td>3</td></tr>",
                            "<tr><td>4</td><td>2</td><td>4</td></tr>",
                            "<tr><td>5</td><td>4</td><td>5</td></tr>",
                            "<tr><td>6</td><td>5</td><td>6</td></tr>",
                            "<tr><td>7</td><td>7</td><td>7</td></tr>",
                            "<tr><td>8</td><td>9</td><td>8</td></tr>",
                            "<tr><td>9</td><td>9</td><td>9</td></tr>",
                            "</table>"
                        ]
                    }
                }
            ],
            "execution_count": 14
        },
        {
            "cell_type": "code",
            "source": [
                "SELECT * FROM [SongReport];"
            ],
            "metadata": {
                "azdata_cell_guid": "483e8f5f-5564-4aea-9a6d-ddf8ecb7f4a4"
            },
            "outputs": [
                {
                    "output_type": "display_data",
                    "data": {
                        "text/html": "(2 rows affected)"
                    },
                    "metadata": {}
                },
                {
                    "output_type": "display_data",
                    "data": {
                        "text/html": "Total execution time: 00:00:00.083"
                    },
                    "metadata": {}
                },
                {
                    "output_type": "execute_result",
                    "metadata": {},
                    "execution_count": 15,
                    "data": {
                        "application/vnd.dataresource+json": {
                            "schema": {
                                "fields": [
                                    {
                                        "name": "reportId"
                                    },
                                    {
                                        "name": "songId"
                                    },
                                    {
                                        "name": "accountId"
                                    },
                                    {
                                        "name": "reportTitle"
                                    },
                                    {
                                        "name": "reportReason"
                                    },
                                    {
                                        "name": "reportDate"
                                    },
                                    {
                                        "name": "reportStatus"
                                    }
                                ]
                            },
                            "data": [
                                {
                                    "0": "1",
                                    "1": "1",
                                    "2": "2",
                                    "3": "report2",
                                    "4": "report2",
                                    "5": "2020-01-02 00:00:00.000",
                                    "6": "NULL"
                                },
                                {
                                    "0": "2",
                                    "1": "2",
                                    "2": "1",
                                    "3": "report17",
                                    "4": "report17",
                                    "5": "2020-01-08 00:00:00.000",
                                    "6": "NULL"
                                }
                            ]
                        },
                        "text/html": [
                            "<table>",
                            "<tr><th>reportId</th><th>songId</th><th>accountId</th><th>reportTitle</th><th>reportReason</th><th>reportDate</th><th>reportStatus</th></tr>",
                            "<tr><td>1</td><td>1</td><td>2</td><td>report2</td><td>report2</td><td>2020-01-02 00:00:00.000</td><td>NULL</td></tr>",
                            "<tr><td>2</td><td>2</td><td>1</td><td>report17</td><td>report17</td><td>2020-01-08 00:00:00.000</td><td>NULL</td></tr>",
                            "</table>"
                        ]
                    }
                }
            ],
            "execution_count": 15
        },
        {
            "cell_type": "code",
            "source": [
                "SELECT * FROM [AccountSong];"
            ],
            "metadata": {
                "azdata_cell_guid": "a8a329e7-ee22-4d55-91b8-bb5c3d920296"
            },
            "outputs": [
                {
                    "output_type": "display_data",
                    "data": {
                        "text/html": "(18 rows affected)"
                    },
                    "metadata": {}
                },
                {
                    "output_type": "display_data",
                    "data": {
                        "text/html": "Total execution time: 00:00:00.083"
                    },
                    "metadata": {}
                },
                {
                    "output_type": "execute_result",
                    "metadata": {},
                    "execution_count": 16,
                    "data": {
                        "application/vnd.dataresource+json": {
                            "schema": {
                                "fields": [
                                    {
                                        "name": "asId"
                                    },
                                    {
                                        "name": "accountId"
                                    },
                                    {
                                        "name": "songId"
                                    },
                                    {
                                        "name": "bestScore"
                                    }
                                ]
                            },
                            "data": [
                                {
                                    "0": "1",
                                    "1": "1",
                                    "2": "1",
                                    "3": "100"
                                },
                                {
                                    "0": "2",
                                    "1": "1",
                                    "2": "2",
                                    "3": "200"
                                },
                                {
                                    "0": "3",
                                    "1": "1",
                                    "2": "3",
                                    "3": "300"
                                },
                                {
                                    "0": "4",
                                    "1": "1",
                                    "2": "4",
                                    "3": "400"
                                },
                                {
                                    "0": "5",
                                    "1": "1",
                                    "2": "5",
                                    "3": "500"
                                },
                                {
                                    "0": "6",
                                    "1": "1",
                                    "2": "6",
                                    "3": "600"
                                },
                                {
                                    "0": "7",
                                    "1": "1",
                                    "2": "7",
                                    "3": "700"
                                },
                                {
                                    "0": "8",
                                    "1": "1",
                                    "2": "8",
                                    "3": "800"
                                },
                                {
                                    "0": "9",
                                    "1": "1",
                                    "2": "9",
                                    "3": "900"
                                },
                                {
                                    "0": "10",
                                    "1": "2",
                                    "2": "1",
                                    "3": "100"
                                },
                                {
                                    "0": "11",
                                    "1": "2",
                                    "2": "2",
                                    "3": "200"
                                },
                                {
                                    "0": "12",
                                    "1": "2",
                                    "2": "3",
                                    "3": "300"
                                },
                                {
                                    "0": "13",
                                    "1": "2",
                                    "2": "4",
                                    "3": "400"
                                },
                                {
                                    "0": "14",
                                    "1": "2",
                                    "2": "5",
                                    "3": "500"
                                },
                                {
                                    "0": "15",
                                    "1": "2",
                                    "2": "6",
                                    "3": "600"
                                },
                                {
                                    "0": "16",
                                    "1": "2",
                                    "2": "7",
                                    "3": "700"
                                },
                                {
                                    "0": "17",
                                    "1": "2",
                                    "2": "8",
                                    "3": "800"
                                },
                                {
                                    "0": "18",
                                    "1": "2",
                                    "2": "9",
                                    "3": "900"
                                }
                            ]
                        },
                        "text/html": [
                            "<table>",
                            "<tr><th>asId</th><th>accountId</th><th>songId</th><th>bestScore</th></tr>",
                            "<tr><td>1</td><td>1</td><td>1</td><td>100</td></tr>",
                            "<tr><td>2</td><td>1</td><td>2</td><td>200</td></tr>",
                            "<tr><td>3</td><td>1</td><td>3</td><td>300</td></tr>",
                            "<tr><td>4</td><td>1</td><td>4</td><td>400</td></tr>",
                            "<tr><td>5</td><td>1</td><td>5</td><td>500</td></tr>",
                            "<tr><td>6</td><td>1</td><td>6</td><td>600</td></tr>",
                            "<tr><td>7</td><td>1</td><td>7</td><td>700</td></tr>",
                            "<tr><td>8</td><td>1</td><td>8</td><td>800</td></tr>",
                            "<tr><td>9</td><td>1</td><td>9</td><td>900</td></tr>",
                            "<tr><td>10</td><td>2</td><td>1</td><td>100</td></tr>",
                            "<tr><td>11</td><td>2</td><td>2</td><td>200</td></tr>",
                            "<tr><td>12</td><td>2</td><td>3</td><td>300</td></tr>",
                            "<tr><td>13</td><td>2</td><td>4</td><td>400</td></tr>",
                            "<tr><td>14</td><td>2</td><td>5</td><td>500</td></tr>",
                            "<tr><td>15</td><td>2</td><td>6</td><td>600</td></tr>",
                            "<tr><td>16</td><td>2</td><td>7</td><td>700</td></tr>",
                            "<tr><td>17</td><td>2</td><td>8</td><td>800</td></tr>",
                            "<tr><td>18</td><td>2</td><td>9</td><td>900</td></tr>",
                            "</table>"
                        ]
                    }
                }
            ],
            "execution_count": 16
        },
        {
            "cell_type": "code",
            "source": [
                "SELECT [userName], [roleName]\r\n",
                "FROM [Account] a\r\n",
                "    INNER JOIN [AccountRole] ar ON a.accountId = ar.accountId\r\n",
                "    INNER JOIN [Role] r on ar.roleId = r.roleId;"
            ],
            "metadata": {
                "azdata_cell_guid": "a14d9b3c-c9d4-4907-8e8a-da4b879504fd"
            },
            "outputs": [
                {
                    "output_type": "display_data",
                    "data": {
                        "text/html": "(2 rows affected)"
                    },
                    "metadata": {}
                },
                {
                    "output_type": "display_data",
                    "data": {
                        "text/html": "Total execution time: 00:00:00.096"
                    },
                    "metadata": {}
                },
                {
                    "output_type": "execute_result",
                    "metadata": {},
                    "execution_count": 17,
                    "data": {
                        "application/vnd.dataresource+json": {
                            "schema": {
                                "fields": [
                                    {
                                        "name": "userName"
                                    },
                                    {
                                        "name": "roleName"
                                    }
                                ]
                            },
                            "data": [
                                {
                                    "0": "johndoe",
                                    "1": "Admin"
                                },
                                {
                                    "0": "janedoe",
                                    "1": "User"
                                }
                            ]
                        },
                        "text/html": [
                            "<table>",
                            "<tr><th>userName</th><th>roleName</th></tr>",
                            "<tr><td>johndoe</td><td>Admin</td></tr>",
                            "<tr><td>janedoe</td><td>User</td></tr>",
                            "</table>"
                        ]
                    }
                }
            ],
            "execution_count": 17
        }
    ]
}