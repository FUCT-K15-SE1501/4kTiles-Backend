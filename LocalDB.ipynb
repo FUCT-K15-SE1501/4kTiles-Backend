{
    "metadata": {
        "kernelspec": {
            "name": "SQL",
            "display_name": "SQL",
            "language": "sql"
        },
        "language_info": {
            "name": "sql",
            "version": ""
        }
    },
    "nbformat_minor": 2,
    "nbformat": 4,
    "cells": [
        {
            "cell_type": "markdown",
            "source": [
                "\r\n",
                "# dotnet ef dbcontext scaffold Name=ConnectionStrings:DevelopmentDB Microsoft.EntityFrameworkCore.SqlServer --data-annotations --context ApplicationDbContext --context-dir Context --force --output-dir Entities"
            ],
            "metadata": {
                "azdata_cell_guid": "c130f4da-304b-4cf6-8e30-8cdf32f130ef"
            }
        },
        {
            "cell_type": "markdown",
            "source": [
                "# Create database"
            ],
            "metadata": {
                "azdata_cell_guid": "be996fe6-b36c-492c-9f1d-2588e3fe439e"
            }
        },
        {
            "cell_type": "code",
            "source": [
                "CREATE DATABASE FkTiles"
            ],
            "metadata": {
                "azdata_cell_guid": "0bf7ac79-f868-497a-b941-ba7ad4d1297a",
                "tags": [
                    "hide_input"
                ]
            },
            "outputs": [],
            "execution_count": null
        },
        {
            "cell_type": "markdown",
            "source": [
                "# Use created database"
            ],
            "metadata": {
                "azdata_cell_guid": "d20434a5-2a4b-4d6f-aee2-fcf03acb162e"
            }
        },
        {
            "cell_type": "code",
            "source": [
                "USE FkTiles"
            ],
            "metadata": {
                "azdata_cell_guid": "2049817e-468c-415f-aa7a-28302490fd01",
                "tags": [
                    "hide_input"
                ]
            },
            "outputs": [
                {
                    "output_type": "display_data",
                    "data": {
                        "text/html": "Commands completed successfully."
                    },
                    "metadata": {}
                },
                {
                    "output_type": "display_data",
                    "data": {
                        "text/html": "Total execution time: 00:00:00.115"
                    },
                    "metadata": {}
                }
            ],
            "execution_count": 1
        },
        {
            "cell_type": "markdown",
            "source": [
                "# Drop all table"
            ],
            "metadata": {
                "azdata_cell_guid": "5600df07-3825-4822-ab80-ca16c054c1d0"
            }
        },
        {
            "cell_type": "code",
            "source": [
                "DROP TABLE [dbo].[AccountSong]\r\n",
                "DROP TABLE [dbo].[SongReport]\r\n",
                "DROP TABLE [dbo].[AccountRole]\r\n",
                "DROP TABLE [dbo].[SongTag]\r\n",
                "DROP TABLE [dbo].[Tag]\r\n",
                "DROP TABLE [dbo].[Song]\r\n",
                "DROP TABLE [dbo].[Account]\r\n",
                "DROP TABLE [dbo].[Role]"
            ],
            "metadata": {
                "azdata_cell_guid": "ad022482-a327-46df-8b15-0a0740ae852e",
                "tags": [
                    "hide_input"
                ]
            },
            "outputs": [],
            "execution_count": null
        },
        {
            "cell_type": "markdown",
            "source": [
                "# Create table"
            ],
            "metadata": {
                "azdata_cell_guid": "cf3f02d6-5a39-4704-acbb-0c14e6bddb42"
            }
        },
        {
            "cell_type": "code",
            "source": [
                "CREATE TABLE [dbo].[Role]\r\n",
                "(\r\n",
                "    [roleId]   [int]          IDENTITY(1,1) NOT NULL PRIMARY KEY,\r\n",
                "    [roleName] [nvarchar](50) NOT NULL,\r\n",
                ")"
            ],
            "metadata": {
                "azdata_cell_guid": "6b15683e-780e-41e9-ba1a-c0be36e6a21d",
                "tags": [
                    "hide_input"
                ]
            },
            "outputs": [],
            "execution_count": null
        },
        {
            "cell_type": "code",
            "source": [
                "CREATE TABLE [dbo].[Account]\r\n",
                "(\r\n",
                "    [accountId]      [int]           IDENTITY(1,1) NOT NULL PRIMARY KEY,\r\n",
                "    [userName]       [nvarchar](50)  NOT NULL,\r\n",
                "    [hashedPassword] [nvarchar](255) NOT NULL,\r\n",
                "    [dob]            [datetime]      DEFAULT (getdate()),\r\n",
                "    [email]          [nvarchar](255) NOT NULL,\r\n",
                "    [isDeleted]      [bit]           NOT NULL DEFAULT 0,\r\n",
                "    [deletedReason]  [nvarchar](255) DEFAULT NULL,\r\n",
                ")"
            ],
            "metadata": {
                "azdata_cell_guid": "f5eb9870-fb8f-4515-8041-50d7ed4f8115",
                "tags": [
                    "hide_input"
                ]
            },
            "outputs": [],
            "execution_count": null
        },
        {
            "cell_type": "code",
            "source": [
                "CREATE TABLE [dbo].[AccountRole]\r\n",
                "(\r\n",
                "    [arId]      [int] IDENTITY(1,1) NOT NULL PRIMARY KEY,\r\n",
                "    [accountId] [int] NOT NULL,\r\n",
                "    [roleId]    [int] NOT NULL,\r\n",
                "    FOREIGN KEY ([accountId]) REFERENCES [dbo].[Account] ([accountId]),\r\n",
                "    FOREIGN KEY ([roleId]) REFERENCES [dbo].[Role] ([roleId])\r\n",
                ")"
            ],
            "metadata": {
                "azdata_cell_guid": "bb2dd58d-967c-43a0-9bac-2ae44ba60a88",
                "tags": [
                    "hide_input"
                ]
            },
            "outputs": [],
            "execution_count": null
        },
        {
            "cell_type": "code",
            "source": [
                "CREATE TABLE [dbo].[Song]\r\n",
                "(\r\n",
                "    [songId]        [int]            IDENTITY(1,1) NOT NULL PRIMARY KEY,\r\n",
                "    [songName]      [nvarchar](255)  NOT NULL,\r\n",
                "    [author]        [nvarchar](255)  NOT NULL,\r\n",
                "    [bpm]           [int]            NOT NULL DEFAULT 100,\r\n",
                "    [notes]         [nvarchar](1000) NOT NULL,\r\n",
                "    [releaseDate]   [datetime]       NOT NULL DEFAULT (getdate()),\r\n",
                "    [isPublic]      [bit]            NOT NULL DEFAULT 0,\r\n",
                "    [isDeleted]     [bit]            NOT NULL DEFAULT 0,\r\n",
                "    [deletedReason] [nvarchar](255)  DEFAULT NULL,\r\n",
                ")"
            ],
            "metadata": {
                "azdata_cell_guid": "22d3bddf-00ba-4576-8668-9bed63c694f1",
                "tags": [
                    "hide_input"
                ]
            },
            "outputs": [],
            "execution_count": null
        },
        {
            "cell_type": "code",
            "source": [
                "CREATE TABLE [dbo].[Genre]\r\n",
                "(\r\n",
                "    [genreId]   [int]          IDENTITY(1,1) NOT NULL PRIMARY KEY,\r\n",
                "    [genreName] [nvarchar](50) NOT NULL,\r\n",
                ")"
            ],
            "metadata": {
                "azdata_cell_guid": "e199ad05-ace4-4ea8-a552-7c525fe43bfa",
                "tags": [
                    "hide_input"
                ]
            },
            "outputs": [],
            "execution_count": null
        },
        {
            "cell_type": "code",
            "source": [
                "CREATE TABLE [dbo].[SongGenre]\r\n",
                "(\r\n",
                "    [sgId]    [int] IDENTITY(1,1) NOT NULL PRIMARY KEY,\r\n",
                "    [songId]  [int] NOT NULL,\r\n",
                "    [genreId] [int] NOT NULL,\r\n",
                "    FOREIGN KEY ([songId]) REFERENCES [dbo].[Song] ([songId]),\r\n",
                "    FOREIGN KEY ([genreId]) REFERENCES [dbo].[Genre] ([genreId])\r\n",
                ")"
            ],
            "metadata": {
                "azdata_cell_guid": "5e621248-a64f-43f9-a912-3e020b46df50",
                "tags": [
                    "hide_input"
                ]
            },
            "outputs": [],
            "execution_count": null
        },
        {
            "cell_type": "code",
            "source": [
                "CREATE TABLE [dbo].[Tag]\r\n",
                "(\r\n",
                "    [tagId]   [int]          IDENTITY(1,1) NOT NULL PRIMARY KEY,\r\n",
                "    [tagName] [nvarchar](50) NOT NULL,\r\n",
                "    [isPublisherTag] [bit] NOT NULL DEFAULT 0\r\n",
                ")"
            ],
            "metadata": {
                "azdata_cell_guid": "606609e1-fe6c-4213-8630-9f58a376645f",
                "tags": []
            },
            "outputs": [
                {
                    "output_type": "error",
                    "evalue": "Msg 2714, Level 16, State 6, Line 1\r\nThere is already an object named 'Tag' in the database.",
                    "ename": "",
                    "traceback": []
                },
                {
                    "output_type": "display_data",
                    "data": {
                        "text/html": "Total execution time: 00:00:00.006"
                    },
                    "metadata": {}
                }
            ],
            "execution_count": 2
        },
        {
            "cell_type": "code",
            "source": [
                "ALTER TABLE [dbo].[Tag] ADD [isPublisherTag] [bit] NOT NULL DEFAULT 0"
            ],
            "metadata": {
                "azdata_cell_guid": "f68f0ae0-150b-4d25-a240-871982f4adca"
            },
            "outputs": [
                {
                    "output_type": "display_data",
                    "data": {
                        "text/html": "Commands completed successfully."
                    },
                    "metadata": {}
                },
                {
                    "output_type": "display_data",
                    "data": {
                        "text/html": "Total execution time: 00:00:00.074"
                    },
                    "metadata": {}
                }
            ],
            "execution_count": 3
        },
        {
            "cell_type": "code",
            "source": [
                "CREATE TABLE [dbo].[SongTag]\r\n",
                "(\r\n",
                "    [stId]   [int] IDENTITY(1,1) NOT NULL PRIMARY KEY,\r\n",
                "    [songId] [int] NOT NULL,\r\n",
                "    [tagId]  [int] NOT NULL,\r\n",
                "    FOREIGN KEY ([songId]) REFERENCES [dbo].[Song] ([songId]),\r\n",
                "    FOREIGN KEY ([tagId]) REFERENCES [dbo].[Tag] ([tagId])\r\n",
                ")"
            ],
            "metadata": {
                "azdata_cell_guid": "f5195b43-58d3-4f75-9fe3-5f7e4c31b23e",
                "tags": [
                    "hide_input"
                ]
            },
            "outputs": [],
            "execution_count": null
        },
        {
            "cell_type": "code",
            "source": [
                "CREATE TABLE [dbo].[AccountSong]\r\n",
                "(\r\n",
                "    [asId]      [int] IDENTITY(1,1) NOT NULL PRIMARY KEY,\r\n",
                "    [accountId] [int] NOT NULL,\r\n",
                "    [songId]    [int] NOT NULL,\r\n",
                "    [bestScore] [int] NOT NULL DEFAULT 0,\r\n",
                "    FOREIGN KEY ([accountId]) REFERENCES [dbo].[Account] ([accountId]),\r\n",
                "    FOREIGN KEY ([songId]) REFERENCES [dbo].[Song] ([songId])\r\n",
                ")"
            ],
            "metadata": {
                "azdata_cell_guid": "452c0ba5-6a55-4d8f-b34b-aa18fa1562d4",
                "tags": [
                    "hide_input"
                ]
            },
            "outputs": [],
            "execution_count": null
        },
        {
            "cell_type": "code",
            "source": [
                "CREATE TABLE [dbo].[SongReport]\r\n",
                "(\r\n",
                "    [reportId]     [int]           IDENTITY(1,1) NOT NULL PRIMARY KEY,\r\n",
                "    [songId]       [int]           NOT NULL,\r\n",
                "    [accountId]    [int]           NOT NULL,\r\n",
                "    [reportTitle]  [nvarchar](255) NOT NULL,\r\n",
                "    [reportReason] [nvarchar](255) NOT NULL,\r\n",
                "    [reportDate]   [datetime]      NOT NULL DEFAULT (getdate()),\r\n",
                "    [reportStatus] [bit]           DEFAULT NULL,\r\n",
                "    FOREIGN KEY ([songId]) REFERENCES [dbo].[Song] ([songId]),\r\n",
                "    FOREIGN KEY ([accountId]) REFERENCES [dbo].[Account] ([accountId])\r\n",
                ")"
            ],
            "metadata": {
                "azdata_cell_guid": "2b5275bd-bd92-4040-9620-930168c38165",
                "tags": [
                    "hide_input"
                ]
            },
            "outputs": [],
            "execution_count": null
        },
        {
            "cell_type": "markdown",
            "source": [
                "# Insert Data"
            ],
            "metadata": {
                "azdata_cell_guid": "eacfbbab-1e02-4309-8174-3eff246d0384"
            }
        },
        {
            "cell_type": "code",
            "source": [
                "INSERT INTO [dbo].[Role]\r\n",
                "    ([roleName])\r\n",
                "VALUES\r\n",
                "    ('Admin'),\r\n",
                "    ('User')"
            ],
            "metadata": {
                "azdata_cell_guid": "85be3d25-52da-4bab-a468-4061b86f8e3d",
                "tags": [
                    "hide_input"
                ]
            },
            "outputs": [],
            "execution_count": null
        },
        {
            "cell_type": "code",
            "source": [
                "INSERT INTO [dbo].[Account]\r\n",
                "    ([userName],[hashedPassword],[email])\r\n",
                "VALUES\r\n",
                "    ('johndoe', 'admin', 'johnd@mail.com'),\r\n",
                "    ('janedoe', 'user', 'janed@mail.com')"
            ],
            "metadata": {
                "azdata_cell_guid": "b3a8511b-eaaa-4c74-aea1-4c1dc6f6d604",
                "tags": [
                    "hide_input"
                ]
            },
            "outputs": [],
            "execution_count": null
        },
        {
            "cell_type": "code",
            "source": [
                "INSERT INTO [dbo].[AccountRole]\r\n",
                "    ([accountId],[roleId])\r\n",
                "VALUES\r\n",
                "    (1, 1),\r\n",
                "    (2, 2)"
            ],
            "metadata": {
                "azdata_cell_guid": "e2572e80-e239-44f2-9df3-8fd086d3ee84",
                "tags": [
                    "hide_input"
                ]
            },
            "outputs": [],
            "execution_count": null
        },
        {
            "cell_type": "code",
            "source": [
                "INSERT INTO [dbo].[Song]\r\n",
                "    ([songName],[author],[bpm],[notes],[releaseDate],[isPublic],[isDeleted],[deletedReason])\r\n",
                "VALUES\r\n",
                "    ('song1', 'author1', 100, 'notes1', '2020-01-01 00:00:00', 0, 0, NULL),\r\n",
                "    ('song2', 'author2', 200, 'notes2', '2020-01-02 00:00:00', 1, 0, NULL),\r\n",
                "    ('song3', 'author3', 300, 'notes3', '2020-01-03 00:00:00', 0, 1, 'reason3'),\r\n",
                "    ('song4', 'author4', 400, 'notes4', '2020-01-04 00:00:00', 1, 1, 'reason4'),\r\n",
                "    ('song5', 'author5', 500, 'notes5', '2020-01-05 00:00:00', 0, 0, NULL),\r\n",
                "    ('song6', 'author6', 600, 'notes6', '2020-01-06 00:00:00', 1, 0, NULL),\r\n",
                "    ('song7', 'author7', 700, 'notes7', '2020-01-07 00:00:00', 0, 1, 'reason7'),\r\n",
                "    ('song8', 'author8', 800, 'notes8', '2020-01-08 00:00:00', 1, 1, 'reason8'),\r\n",
                "    ('song9', 'author9', 900, 'notes9', '2020-01-09 00:00:00', 0, 0, NULL)"
            ],
            "metadata": {
                "azdata_cell_guid": "10b8a212-22e2-4057-8cc0-8cdc4d7b364b",
                "tags": [
                    "hide_input"
                ]
            },
            "outputs": [],
            "execution_count": null
        },
        {
            "cell_type": "code",
            "source": [
                "INSERT INTO [dbo].[Tag]\r\n",
                "    ([tagName])\r\n",
                "VALUES\r\n",
                "    ('Tag1'),\r\n",
                "    ('Tag2'),\r\n",
                "    ('Tag3'),\r\n",
                "    ('Tag4'),\r\n",
                "    ('Tag5'),\r\n",
                "    ('Tag6'),\r\n",
                "    ('Tag7'),\r\n",
                "    ('Tag8'),\r\n",
                "    ('Tag9')"
            ],
            "metadata": {
                "azdata_cell_guid": "c6ae0782-d823-4757-a431-b077d431da90",
                "tags": [
                    "hide_input"
                ]
            },
            "outputs": [],
            "execution_count": null
        },
        {
            "cell_type": "code",
            "source": [
                "INSERT INTO [dbo].[SongTag]\r\n",
                "    ([songId],[tagId])\r\n",
                "VALUES\r\n",
                "    (1, 1),\r\n",
                "    (1, 2),\r\n",
                "    (2, 3),\r\n",
                "    (2, 4),\r\n",
                "    (4, 5),\r\n",
                "    (5, 6),\r\n",
                "    (7, 7),\r\n",
                "    (9, 8),\r\n",
                "    (9, 9)"
            ],
            "metadata": {
                "azdata_cell_guid": "f884c23b-152d-48a4-87f6-6686b0952a9e",
                "tags": [
                    "hide_input"
                ]
            },
            "outputs": [],
            "execution_count": null
        },
        {
            "cell_type": "code",
            "source": [
                "INSERT INTO [dbo].[AccountSong]\r\n",
                "    ([accountId],[songId],[bestScore])\r\n",
                "VALUES\r\n",
                "    (1, 1, 100),\r\n",
                "    (1, 2, 200),\r\n",
                "    (1, 3, 300),\r\n",
                "    (1, 4, 400),\r\n",
                "    (1, 5, 500),\r\n",
                "    (1, 6, 600),\r\n",
                "    (1, 7, 700),\r\n",
                "    (1, 8, 800),\r\n",
                "    (1, 9, 900),\r\n",
                "    (2, 1, 100),\r\n",
                "    (2, 2, 200),\r\n",
                "    (2, 3, 300),\r\n",
                "    (2, 4, 400),\r\n",
                "    (2, 5, 500),\r\n",
                "    (2, 6, 600),\r\n",
                "    (2, 7, 700),\r\n",
                "    (2, 8, 800),\r\n",
                "    (2, 9, 900)"
            ],
            "metadata": {
                "azdata_cell_guid": "165b2c4a-952d-4aff-af4e-7033ba90ee8b",
                "tags": [
                    "hide_input"
                ]
            },
            "outputs": [],
            "execution_count": null
        },
        {
            "cell_type": "code",
            "source": [
                "INSERT INTO [dbo].[SongReport]\r\n",
                "    ([songId],[accountId],[reportTitle],[reportReason],[reportDate])\r\n",
                "    VALUES\r\n",
                "    (1, 2, 'report2', 'report2', '2020-01-02 00:00:00'),\r\n",
                "    (2, 1, 'report17', 'report17', '2020-01-08 00:00:00')"
            ],
            "metadata": {
                "azdata_cell_guid": "ea2192e5-4bcb-4932-91cc-cfab911b5a21",
                "tags": [
                    "hide_input"
                ]
            },
            "outputs": [],
            "execution_count": null
        },
        {
            "cell_type": "markdown",
            "source": [
                "# Query"
            ],
            "metadata": {
                "azdata_cell_guid": "246e5e2e-bce7-4936-b55a-c7182444e683"
            }
        }
    ]
}